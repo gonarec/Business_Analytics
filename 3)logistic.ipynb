{
 "cells": [
  {
   "cell_type": "code",
   "execution_count": 18,
   "metadata": {},
   "outputs": [],
   "source": [
    "from sklearn.datasets import load_breast_cancer\n",
    "import numpy as np\n",
    "import pandas as pd\n",
    "import matplotlib.pyplot as plt\n",
    "import csv\n",
    "import os\n",
    "import statsmodels.api as sm\n",
    "from sklearn.linear_model import LogisticRegression\n",
    "from sklearn.model_selection import train_test_split\n",
    "from sklearn.preprocessing import StandardScaler\n",
    "from sklearn.metrics import confusion_matrix, classification_report\n"
   ]
  },
  {
   "cell_type": "code",
   "execution_count": 19,
   "metadata": {},
   "outputs": [],
   "source": [
    "df=pd.read_csv('Diabetes.csv')\n",
    "y=df['Outcome']\n",
    "df.drop('Outcome',axis=1, inplace=True)\n"
   ]
  },
  {
   "cell_type": "code",
   "execution_count": 21,
   "metadata": {},
   "outputs": [
    {
     "name": "stdout",
     "output_type": "stream",
     "text": [
      "              precision    recall  f1-score   support\n",
      "\n",
      "           0       0.80      0.94      0.87       106\n",
      "           1       0.79      0.48      0.60        48\n",
      "\n",
      "    accuracy                           0.80       154\n",
      "   macro avg       0.80      0.71      0.73       154\n",
      "weighted avg       0.80      0.80      0.78       154\n",
      "\n",
      "        Predicted 0  Predicted 1\n",
      "True 0          100            6\n",
      "True 1           25           23\n"
     ]
    }
   ],
   "source": [
    "df_sc = StandardScaler().fit_transform(df)\n",
    "x_train, x_test, y_train, y_test = train_test_split(df_sc,y , test_size = 0.2, random_state = 12345)\n",
    "lr = LogisticRegression()\n",
    "lr.fit(x_train, y_train)\n",
    "lr_pred = lr.predict(x_test)\n",
    "\n",
    "\n",
    "print(classification_report(y_test, lr_pred))\n",
    "\n",
    "\n",
    "cm = confusion_matrix(y_test, lr_pred)\n",
    "\n",
    "# Stampa la matrice di confusione\n",
    "df_cm = pd.DataFrame(cm, index=['True 0', 'True 1'], columns=['Predicted 0', 'Predicted 1'])\n",
    "print(df_cm)\n",
    "\n"
   ]
  }
 ],
 "metadata": {
  "kernelspec": {
   "display_name": "Python 3",
   "language": "python",
   "name": "python3"
  },
  "language_info": {
   "codemirror_mode": {
    "name": "ipython",
    "version": 3
   },
   "file_extension": ".py",
   "mimetype": "text/x-python",
   "name": "python",
   "nbconvert_exporter": "python",
   "pygments_lexer": "ipython3",
   "version": "3.11.9"
  }
 },
 "nbformat": 4,
 "nbformat_minor": 2
}
